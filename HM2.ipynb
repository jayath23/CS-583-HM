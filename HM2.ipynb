{
 "cells": [
  {
   "cell_type": "markdown",
   "metadata": {},
   "source": [
    "# HM2: Numerical Optimization for Logistic Regression.\n",
    "\n",
    "### Name: JAYATH KUMAR LEKKALA\n"
   ]
  },
  {
   "cell_type": "markdown",
   "metadata": {},
   "source": [
    "## 0. You will do the following:\n",
    "\n",
    "1. Read the lecture note: [click here](https://github.com/wangshusen/DeepLearning/blob/master/LectureNotes/Logistic/paper/logistic.pdf)\n",
    "\n",
    "2. Read, complete, and run my code.\n",
    "\n",
    "3. **Implement mini-batch SGD** and evaluate the performance.\n",
    "\n",
    "4. Convert the .IPYNB file to .HTML file.\n",
    "\n",
    "    * The HTML file must contain **the code** and **the output after execution**.\n",
    "    \n",
    "    * Missing **the output after execution** will not be graded.\n",
    "    \n",
    "5. Upload this .HTML file to your Google Drive, Dropbox, or your Github repo.  (If you submit the file to Google Drive or Dropbox, you must make the file \"open-access\". The delay caused by \"deny of access\" may result in late penalty.)\n",
    "\n",
    "6. Submit the link to this .HTML file to Canvas.\n",
    "\n",
    "    * Example: https://github.com/wangshusen/CS583-2020S/blob/master/homework/HM2/HM2.html\n",
    "\n",
    "\n",
    "## Grading criteria:\n",
    "\n",
    "1. When computing the ```gradient``` and ```objective function value``` using a batch of samples, use **matrix-vector multiplication** rather than a FOR LOOP of **vector-vector multiplications**.\n",
    "\n",
    "2. Plot ```objective function value``` against ```epochs```. In the plot, compare GD, SGD, and MB-SGD (with $b=8$ and $b=64$). The plot must look reasonable."
   ]
  },
  {
   "cell_type": "code",
   "execution_count": null,
   "metadata": {},
   "outputs": [],
   "source": []
  },
  {
   "cell_type": "markdown",
   "metadata": {},
   "source": [
    "# 1. Data processing\n",
    "\n",
    "- Download the Diabete dataset from https://www.csie.ntu.edu.tw/~cjlin/libsvmtools/datasets/binary/diabetes\n",
    "- Load the data using sklearn.\n",
    "- Preprocess the data."
   ]
  },
  {
   "cell_type": "markdown",
   "metadata": {},
   "source": [
    "## 1.1. Load the data"
   ]
  },
  {
   "cell_type": "code",
   "execution_count": 1,
   "metadata": {},
   "outputs": [
    {
     "name": "stdout",
     "output_type": "stream",
     "text": [
      "Shape of x: (768, 8)\n",
      "Shape of y: (768,)\n"
     ]
    }
   ],
   "source": [
    "from sklearn import datasets\n",
    "import numpy\n",
    "\n",
    "x_sparse, y = datasets.load_svmlight_file('diabetes.txt')\n",
    "x = x_sparse.todense()\n",
    "\n",
    "print('Shape of x: ' + str(x.shape))\n",
    "print('Shape of y: ' + str(y.shape))"
   ]
  },
  {
   "cell_type": "markdown",
   "metadata": {},
   "source": [
    "## 1.2. Partition to training and test sets"
   ]
  },
  {
   "cell_type": "code",
   "execution_count": 2,
   "metadata": {},
   "outputs": [
    {
     "name": "stdout",
     "output_type": "stream",
     "text": [
      "Shape of x_train: (640, 8)\n",
      "Shape of x_test: (128, 8)\n",
      "Shape of y_train: (640, 1)\n",
      "Shape of y_test: (128, 1)\n"
     ]
    }
   ],
   "source": [
    "# partition the data to training and test sets\n",
    "n = x.shape[0]\n",
    "n_train = 640\n",
    "n_test = n - n_train\n",
    "\n",
    "rand_indices = numpy.random.permutation(n)\n",
    "train_indices = rand_indices[0:n_train]\n",
    "test_indices = rand_indices[n_train:n]\n",
    "\n",
    "x_train = x[train_indices, :]\n",
    "x_test = x[test_indices, :]\n",
    "y_train = y[train_indices].reshape(n_train, 1)\n",
    "y_test = y[test_indices].reshape(n_test, 1)\n",
    "\n",
    "print('Shape of x_train: ' + str(x_train.shape))\n",
    "print('Shape of x_test: ' + str(x_test.shape))\n",
    "print('Shape of y_train: ' + str(y_train.shape))\n",
    "print('Shape of y_test: ' + str(y_test.shape))"
   ]
  },
  {
   "cell_type": "markdown",
   "metadata": {},
   "source": [
    "## 1.3. Feature scaling"
   ]
  },
  {
   "cell_type": "markdown",
   "metadata": {},
   "source": [
    "Use the standardization to trainsform both training and test features"
   ]
  },
  {
   "cell_type": "code",
   "execution_count": 3,
   "metadata": {},
   "outputs": [
    {
     "name": "stdout",
     "output_type": "stream",
     "text": [
      "test mean = \n",
      "[[-0.0497556   0.14515528 -0.10081759 -0.13121002  0.03774816 -0.08421283\n",
      "  -0.12814916  0.18501626]]\n",
      "test std = \n",
      "[[0.89700221 1.01812668 1.25717621 1.03172611 1.02587402 1.15511252\n",
      "  0.9456971  1.08233586]]\n"
     ]
    }
   ],
   "source": [
    "# Standardization\n",
    "import numpy\n",
    "\n",
    "# calculate mu and sig using the training set\n",
    "d = x_train.shape[1]\n",
    "mu = numpy.mean(x_train, axis=0).reshape(1, d)\n",
    "sig = numpy.std(x_train, axis=0).reshape(1, d)\n",
    "\n",
    "# transform the training features\n",
    "x_train = (x_train - mu) / (sig + 1E-6)\n",
    "\n",
    "# transform the test features\n",
    "x_test = (x_test - mu) / (sig + 1E-6)\n",
    "\n",
    "print('test mean = ')\n",
    "print(numpy.mean(x_test, axis=0))\n",
    "\n",
    "print('test std = ')\n",
    "print(numpy.std(x_test, axis=0))"
   ]
  },
  {
   "cell_type": "markdown",
   "metadata": {},
   "source": [
    "## 1.4. Add a dimension of all ones"
   ]
  },
  {
   "cell_type": "code",
   "execution_count": 4,
   "metadata": {},
   "outputs": [
    {
     "name": "stdout",
     "output_type": "stream",
     "text": [
      "Shape of x_train: (640, 9)\n",
      "Shape of x_test: (128, 9)\n"
     ]
    }
   ],
   "source": [
    "n_train, d = x_train.shape\n",
    "x_train = numpy.concatenate((x_train, numpy.ones((n_train, 1))), axis=1)\n",
    "\n",
    "n_test, d = x_test.shape\n",
    "x_test = numpy.concatenate((x_test, numpy.ones((n_test, 1))), axis=1)\n",
    "\n",
    "print('Shape of x_train: ' + str(x_train.shape))\n",
    "print('Shape of x_test: ' + str(x_test.shape))"
   ]
  },
  {
   "cell_type": "markdown",
   "metadata": {},
   "source": [
    "# 2. Logistic regression model\n",
    "\n",
    "The objective function is $Q (w; X, y) = \\frac{1}{n} \\sum_{i=1}^n \\log \\Big( 1 + \\exp \\big( - y_i x_i^T w \\big) \\Big) + \\frac{\\lambda}{2} \\| w \\|_2^2 $."
   ]
  },
  {
   "cell_type": "code",
   "execution_count": 5,
   "metadata": {},
   "outputs": [],
   "source": [
    "# Calculate the objective function value\n",
    "# Inputs:\n",
    "#     w: d-by-1 matrix\n",
    "#     x: n-by-d matrix\n",
    "#     y: n-by-1 matrix\n",
    "#     lam: scalar, the regularization parameter\n",
    "# Return:\n",
    "#     objective function value (scalar)\n",
    "def objective(w, x, y, lam):\n",
    "    n, d = x.shape\n",
    "    yx = numpy.multiply(y, x) # n-by-d matrix\n",
    "    yxw = numpy.dot(yx, w) # n-by-1 matrix\n",
    "    vec1 = numpy.exp(-yxw) # n-by-1 matrix\n",
    "    vec2 = numpy.log(1 + vec1) # n-by-1 matrix\n",
    "    loss = numpy.mean(vec2) # scalar\n",
    "    reg = lam / 2 * numpy.sum(w * w) # scalar\n",
    "    return loss + reg\n",
    "    "
   ]
  },
  {
   "cell_type": "code",
   "execution_count": 6,
   "metadata": {},
   "outputs": [
    {
     "name": "stdout",
     "output_type": "stream",
     "text": [
      "Initial objective function value = 0.6931471805599453\n"
     ]
    }
   ],
   "source": [
    "# initialize w\n",
    "d = x_train.shape[1]\n",
    "w = numpy.zeros((d, 1))\n",
    "\n",
    "# evaluate the objective function value at w\n",
    "lam = 1E-6\n",
    "objval0 = objective(w, x_train, y_train, lam)\n",
    "print('Initial objective function value = ' + str(objval0))"
   ]
  },
  {
   "cell_type": "markdown",
   "metadata": {},
   "source": [
    "# 3. Numerical optimization"
   ]
  },
  {
   "cell_type": "markdown",
   "metadata": {},
   "source": [
    "## 3.1. Gradient descent\n"
   ]
  },
  {
   "cell_type": "markdown",
   "metadata": {},
   "source": [
    "The gradient at $w$ is $g = - \\frac{1}{n} \\sum_{i=1}^n \\frac{y_i x_i }{1 + \\exp ( y_i x_i^T w)} + \\lambda w$"
   ]
  },
  {
   "cell_type": "code",
   "execution_count": 7,
   "metadata": {},
   "outputs": [],
   "source": [
    "# Calculate the gradient\n",
    "# Inputs:\n",
    "#     w: d-by-1 matrix\n",
    "#     x: n-by-d matrix\n",
    "#     y: n-by-1 matrix\n",
    "#     lam: scalar, the regularization parameter\n",
    "# Return:\n",
    "#     g: g: d-by-1 matrix, full gradient\n",
    "def gradient(w, x, y, lam):\n",
    "    n, d = x.shape\n",
    "    yx = numpy.multiply(y, x) # n-by-d matrix\n",
    "    yxw = numpy.dot(yx, w) # n-by-1 matrix\n",
    "    vec1 = numpy.exp(yxw) # n-by-1 matrix\n",
    "    vec2 = numpy.divide(yx, 1+vec1) # n-by-d matrix\n",
    "    vec3 = -numpy.mean(vec2, axis=0).reshape(d, 1) # d-by-1 matrix\n",
    "    g = vec3 + lam * w\n",
    "    return g"
   ]
  },
  {
   "cell_type": "code",
   "execution_count": 8,
   "metadata": {},
   "outputs": [],
   "source": [
    "# Gradient descent for solving logistic regression\n",
    "# Inputs:\n",
    "#     x: n-by-d matrix\n",
    "#     y: n-by-1 matrix\n",
    "#     lam: scalar, the regularization parameter\n",
    "#     stepsize: scalar\n",
    "#     max_iter: integer, the maximal iterations\n",
    "#     w: d-by-1 matrix, initialization of w\n",
    "# Return:\n",
    "#     w: d-by-1 matrix, the solution\n",
    "#     objvals: a record of each iteration's objective value\n",
    "def grad_descent(x, y, lam, stepsize, max_iter=100, w=None):\n",
    "    n, d = x.shape\n",
    "    objvals = numpy.zeros(max_iter) # store the objective values\n",
    "    if w is None:\n",
    "        w = numpy.zeros((d, 1)) # zero initialization\n",
    "    \n",
    "    for t in range(max_iter):\n",
    "        objval = objective(w, x, y, lam)\n",
    "        objvals[t] = objval\n",
    "        print('Objective value at t=' + str(t) + ' is ' + str(objval))\n",
    "        g = gradient(w, x, y, lam)\n",
    "        w -= stepsize * g\n",
    "    \n",
    "    return w, objvals"
   ]
  },
  {
   "cell_type": "markdown",
   "metadata": {},
   "source": [
    "Run gradient descent."
   ]
  },
  {
   "cell_type": "code",
   "execution_count": 9,
   "metadata": {},
   "outputs": [
    {
     "name": "stdout",
     "output_type": "stream",
     "text": [
      "Objective value at t=0 is 0.6931471805599453\n",
      "Objective value at t=1 is 0.5892165748730682\n",
      "Objective value at t=2 is 0.5475452424546265\n",
      "Objective value at t=3 is 0.5252432866253358\n",
      "Objective value at t=4 is 0.5113394108662414\n",
      "Objective value at t=5 is 0.501921403840699\n",
      "Objective value at t=6 is 0.49521242222561845\n",
      "Objective value at t=7 is 0.4902696651238695\n",
      "Objective value at t=8 is 0.48653860447427427\n",
      "Objective value at t=9 is 0.4836693156576736\n",
      "Objective value at t=10 is 0.48142970636110033\n",
      "Objective value at t=11 is 0.47966006351989116\n",
      "Objective value at t=12 is 0.4782473094731145\n",
      "Objective value at t=13 is 0.47710953175711057\n",
      "Objective value at t=14 is 0.4761862549588695\n",
      "Objective value at t=15 is 0.4754321019643406\n",
      "Objective value at t=16 is 0.47481254369317283\n",
      "Objective value at t=17 is 0.4743009806510538\n",
      "Objective value at t=18 is 0.473876697932359\n",
      "Objective value at t=19 is 0.47352340669402315\n",
      "Objective value at t=20 is 0.4732281874560168\n",
      "Objective value at t=21 is 0.47298071365338296\n",
      "Objective value at t=22 is 0.4727726737774335\n",
      "Objective value at t=23 is 0.47259733627760864\n",
      "Objective value at t=24 is 0.47244921844771387\n",
      "Objective value at t=25 is 0.4723238319731594\n",
      "Objective value at t=26 is 0.47221748562939\n",
      "Objective value at t=27 is 0.47212713102911175\n",
      "Objective value at t=28 is 0.4720502411078305\n",
      "Objective value at t=29 is 0.47198471372901946\n",
      "Objective value at t=30 is 0.4719287947231085\n",
      "Objective value at t=31 is 0.47188101607735894\n",
      "Objective value at t=32 is 0.47184014602221863\n",
      "Objective value at t=33 is 0.47180514852102007\n",
      "Objective value at t=34 is 0.4717751502384089\n",
      "Objective value at t=35 is 0.4717494134910665\n",
      "Objective value at t=36 is 0.4717273140093564\n",
      "Objective value at t=37 is 0.47170832258716494\n",
      "Objective value at t=38 is 0.4716919898887551\n",
      "Objective value at t=39 is 0.4716779338300171\n",
      "Objective value at t=40 is 0.47166582906743715\n",
      "Objective value at t=41 is 0.47165539821916475\n",
      "Objective value at t=42 is 0.4716464045144435\n",
      "Objective value at t=43 is 0.4716386456247518\n",
      "Objective value at t=44 is 0.4716319484755432\n",
      "Objective value at t=45 is 0.4716261648739909\n",
      "Objective value at t=46 is 0.4716211678175448\n",
      "Objective value at t=47 is 0.4716168483719021\n",
      "Objective value at t=48 is 0.47161311302629855\n",
      "Objective value at t=49 is 0.4716098814497771\n",
      "Objective value at t=50 is 0.47160708458496964\n",
      "Objective value at t=51 is 0.47160466302649673\n",
      "Objective value at t=52 is 0.4716025656397992\n",
      "Objective value at t=53 is 0.4716007483834007\n",
      "Objective value at t=54 is 0.47159917330355994\n",
      "Objective value at t=55 is 0.4715978076752093\n",
      "Objective value at t=56 is 0.47159662326720114\n",
      "Objective value at t=57 is 0.471595595713311\n",
      "Objective value at t=58 is 0.4715947039733239\n",
      "Objective value at t=59 is 0.4715939298709373\n",
      "Objective value at t=60 is 0.4715932576972327\n",
      "Objective value at t=61 is 0.47159267387017306\n",
      "Objective value at t=62 is 0.47159216664201487\n",
      "Objective value at t=63 is 0.47159172584773057\n",
      "Objective value at t=64 is 0.47159134268856406\n",
      "Objective value at t=65 is 0.4715910095457072\n",
      "Objective value at t=66 is 0.47159071981981565\n",
      "Objective value at t=67 is 0.4715904677927112\n",
      "Objective value at t=68 is 0.47159024850814196\n",
      "Objective value at t=69 is 0.4715900576689271\n",
      "Objective value at t=70 is 0.4715898915481934\n",
      "Objective value at t=71 is 0.4715897469127397\n",
      "Objective value at t=72 is 0.4715896209568448\n",
      "Objective value at t=73 is 0.4715895112450717\n",
      "Objective value at t=74 is 0.4715894156628278\n",
      "Objective value at t=75 is 0.47158933237361134\n",
      "Objective value at t=76 is 0.47158925978202854\n",
      "Objective value at t=77 is 0.47158919650178943\n",
      "Objective value at t=78 is 0.47158914132800445\n",
      "Objective value at t=79 is 0.4715890932131941\n",
      "Objective value at t=80 is 0.47158905124650974\n",
      "Objective value at t=81 is 0.47158901463572794\n",
      "Objective value at t=82 is 0.47158898269164434\n",
      "Objective value at t=83 is 0.4715889548145444\n",
      "Objective value at t=84 is 0.4715889304824688\n",
      "Objective value at t=85 is 0.47158890924103486\n",
      "Objective value at t=86 is 0.4715888906946041\n",
      "Objective value at t=87 is 0.47158887449861653\n",
      "Objective value at t=88 is 0.47158886035293474\n",
      "Objective value at t=89 is 0.47158884799606493\n",
      "Objective value at t=90 is 0.4715888372001361\n",
      "Objective value at t=91 is 0.4715888277665388\n",
      "Objective value at t=92 is 0.47158881952213494\n",
      "Objective value at t=93 is 0.47158881231596195\n",
      "Objective value at t=94 is 0.47158880601636977\n",
      "Objective value at t=95 is 0.47158880050852825\n",
      "Objective value at t=96 is 0.47158879569226114\n",
      "Objective value at t=97 is 0.4715887914801603\n",
      "Objective value at t=98 is 0.4715887877959456\n",
      "Objective value at t=99 is 0.47158878457303677\n"
     ]
    }
   ],
   "source": [
    "lam = 1E-6\n",
    "stepsize = 1.0\n",
    "w, objvals_gd = grad_descent(x_train, y_train, lam, stepsize)"
   ]
  },
  {
   "cell_type": "markdown",
   "metadata": {},
   "source": [
    "## 3.2. Stochastic gradient descent (SGD)\n",
    "\n",
    "Define $Q_i (w) = \\log \\Big( 1 + \\exp \\big( - y_i x_i^T w \\big) \\Big) + \\frac{\\lambda}{2} \\| w \\|_2^2 $.\n",
    "\n",
    "The stochastic gradient at $w$ is $g_i = \\frac{\\partial Q_i }{ \\partial w} = -\\frac{y_i x_i }{1 + \\exp ( y_i x_i^T w)} + \\lambda w$."
   ]
  },
  {
   "cell_type": "code",
   "execution_count": 10,
   "metadata": {},
   "outputs": [],
   "source": [
    "# Calculate the objective Q_i and the gradient of Q_i\n",
    "# Inputs:\n",
    "#     w: d-by-1 matrix\n",
    "#     xi: 1-by-d matrix\n",
    "#     yi: scalar\n",
    "#     lam: scalar, the regularization parameter\n",
    "# Return:\n",
    "#     obj: scalar, the objective Q_i\n",
    "#     g: d-by-1 matrix, gradient of Q_i\n",
    "def stochastic_objective_gradient(w, xi, yi, lam):\n",
    "    d = xi.shape[0]\n",
    "    yx = yi * xi # 1-by-d matrix\n",
    "    yxw = float(numpy.dot(yx, w)) # scalar\n",
    "    \n",
    "    # calculate objective function Q_i\n",
    "    loss = numpy.log(1 + numpy.exp(-yxw)) # scalar\n",
    "    reg = lam / 2 * numpy.sum(w * w) # scalar\n",
    "    obj = loss + reg\n",
    "    \n",
    "    # calculate stochastic gradient\n",
    "    g_loss = -yx.T / (1 + numpy.exp(yxw)) # d-by-1 matrix\n",
    "    g = g_loss + lam * w # d-by-1 matrix\n",
    "    \n",
    "    return obj, g"
   ]
  },
  {
   "cell_type": "code",
   "execution_count": 11,
   "metadata": {},
   "outputs": [],
   "source": [
    "# SGD for solving logistic regression\n",
    "# Inputs:\n",
    "#     x: n-by-d matrix\n",
    "#     y: n-by-1 matrix\n",
    "#     lam: scalar, the regularization parameter\n",
    "#     stepsize: scalar\n",
    "#     max_epoch: integer, the maximal epochs\n",
    "#     w: d-by-1 matrix, initialization of w\n",
    "# Return:\n",
    "#     w: the solution\n",
    "#     objvals: record of each iteration's objective value\n",
    "def sgd(x, y, lam, stepsize, max_epoch=100, w=None):\n",
    "    n, d = x.shape\n",
    "    objvals = numpy.zeros(max_epoch) # store the objective values\n",
    "    if w is None:\n",
    "        w = numpy.zeros((d, 1)) # zero initialization\n",
    "    \n",
    "    for t in range(max_epoch):\n",
    "        # randomly shuffle the samples\n",
    "        rand_indices = numpy.random.permutation(n)\n",
    "        x_rand = x[rand_indices, :]\n",
    "        y_rand = y[rand_indices, :]\n",
    "        \n",
    "        objval = 0 # accumulate the objective values\n",
    "        for i in range(n):\n",
    "            xi = x_rand[i, :] # 1-by-d matrix\n",
    "            yi = float(y_rand[i, :]) # scalar\n",
    "            obj, g = stochastic_objective_gradient(w, xi, yi, lam)\n",
    "            objval += obj\n",
    "            w -= stepsize * g\n",
    "        \n",
    "        stepsize *= 0.9 # decrease step size\n",
    "        objval /= n\n",
    "        objvals[t] = objval\n",
    "        print('Objective value at epoch t=' + str(t) + ' is ' + str(objval))\n",
    "    \n",
    "    return w, objvals"
   ]
  },
  {
   "cell_type": "markdown",
   "metadata": {},
   "source": [
    "Run SGD."
   ]
  },
  {
   "cell_type": "code",
   "execution_count": 12,
   "metadata": {},
   "outputs": [
    {
     "name": "stdout",
     "output_type": "stream",
     "text": [
      "Objective value at epoch t=0 is 0.5277204099471915\n",
      "Objective value at epoch t=1 is 0.5156026745697861\n",
      "Objective value at epoch t=2 is 0.5093323975926112\n",
      "Objective value at epoch t=3 is 0.5174913644247447\n",
      "Objective value at epoch t=4 is 0.502033275463868\n",
      "Objective value at epoch t=5 is 0.5069184591849674\n",
      "Objective value at epoch t=6 is 0.5029629712960498\n",
      "Objective value at epoch t=7 is 0.5011760230828705\n",
      "Objective value at epoch t=8 is 0.49304952446064243\n",
      "Objective value at epoch t=9 is 0.49169517778370275\n",
      "Objective value at epoch t=10 is 0.4906546294803104\n",
      "Objective value at epoch t=11 is 0.4870365684049117\n",
      "Objective value at epoch t=12 is 0.4905211516910842\n",
      "Objective value at epoch t=13 is 0.48652615108850644\n",
      "Objective value at epoch t=14 is 0.48643078956641467\n",
      "Objective value at epoch t=15 is 0.4839870720291888\n",
      "Objective value at epoch t=16 is 0.48257390122323474\n",
      "Objective value at epoch t=17 is 0.4825312477142992\n",
      "Objective value at epoch t=18 is 0.48086498107995146\n",
      "Objective value at epoch t=19 is 0.4802549558226371\n",
      "Objective value at epoch t=20 is 0.4795130729944958\n",
      "Objective value at epoch t=21 is 0.4775060436130113\n",
      "Objective value at epoch t=22 is 0.47830801174130705\n",
      "Objective value at epoch t=23 is 0.47735509451016284\n",
      "Objective value at epoch t=24 is 0.4766693863606556\n",
      "Objective value at epoch t=25 is 0.47635836012466415\n",
      "Objective value at epoch t=26 is 0.47624839475861985\n",
      "Objective value at epoch t=27 is 0.47565121538539384\n",
      "Objective value at epoch t=28 is 0.47510611145683806\n",
      "Objective value at epoch t=29 is 0.4749638718646837\n",
      "Objective value at epoch t=30 is 0.4745191481033861\n",
      "Objective value at epoch t=31 is 0.47429546286442176\n",
      "Objective value at epoch t=32 is 0.47398958191412843\n",
      "Objective value at epoch t=33 is 0.4738113324572245\n",
      "Objective value at epoch t=34 is 0.47356199791154374\n",
      "Objective value at epoch t=35 is 0.47332455233452764\n",
      "Objective value at epoch t=36 is 0.47314964924621367\n",
      "Objective value at epoch t=37 is 0.47306980756344286\n",
      "Objective value at epoch t=38 is 0.4729051947436128\n",
      "Objective value at epoch t=39 is 0.47275854525597794\n",
      "Objective value at epoch t=40 is 0.4726663601364627\n",
      "Objective value at epoch t=41 is 0.4725537920936178\n",
      "Objective value at epoch t=42 is 0.4724469498637909\n",
      "Objective value at epoch t=43 is 0.47237770386228767\n",
      "Objective value at epoch t=44 is 0.47229500714869277\n",
      "Objective value at epoch t=45 is 0.47222966736883976\n",
      "Objective value at epoch t=46 is 0.4721658145798295\n",
      "Objective value at epoch t=47 is 0.47211110842348125\n",
      "Objective value at epoch t=48 is 0.4720590857478161\n",
      "Objective value at epoch t=49 is 0.47201150273855746\n",
      "Objective value at epoch t=50 is 0.47196813574544666\n",
      "Objective value at epoch t=51 is 0.4719293474739116\n",
      "Objective value at epoch t=52 is 0.471896984756942\n",
      "Objective value at epoch t=53 is 0.4718660356013942\n",
      "Objective value at epoch t=54 is 0.47183860151223256\n",
      "Objective value at epoch t=55 is 0.4718140583936356\n",
      "Objective value at epoch t=56 is 0.4717908545994985\n",
      "Objective value at epoch t=57 is 0.4717709170882218\n",
      "Objective value at epoch t=58 is 0.4717531207025109\n",
      "Objective value at epoch t=59 is 0.47173692080514434\n",
      "Objective value at epoch t=60 is 0.4717219430312318\n",
      "Objective value at epoch t=61 is 0.47170861556684407\n",
      "Objective value at epoch t=62 is 0.4716968065231721\n",
      "Objective value at epoch t=63 is 0.47168604231886657\n",
      "Objective value at epoch t=64 is 0.471676305465304\n",
      "Objective value at epoch t=65 is 0.4716676438825396\n",
      "Objective value at epoch t=66 is 0.47165968302231187\n",
      "Objective value at epoch t=67 is 0.4716527223304448\n",
      "Objective value at epoch t=68 is 0.471646368521771\n",
      "Objective value at epoch t=69 is 0.4716405974675958\n",
      "Objective value at epoch t=70 is 0.4716354870062534\n",
      "Objective value at epoch t=71 is 0.47163085001389016\n",
      "Objective value at epoch t=72 is 0.4716266850549304\n",
      "Objective value at epoch t=73 is 0.4716228926736149\n",
      "Objective value at epoch t=74 is 0.471619515532378\n",
      "Objective value at epoch t=75 is 0.4716164791816488\n",
      "Objective value at epoch t=76 is 0.4716137506265139\n",
      "Objective value at epoch t=77 is 0.47161129185242306\n",
      "Objective value at epoch t=78 is 0.47160906994523016\n",
      "Objective value at epoch t=79 is 0.4716070737979378\n",
      "Objective value at epoch t=80 is 0.47160527297141136\n",
      "Objective value at epoch t=81 is 0.4716036588581255\n",
      "Objective value at epoch t=82 is 0.47160220306677436\n",
      "Objective value at epoch t=83 is 0.47160089034852104\n",
      "Objective value at epoch t=84 is 0.4715997094706997\n",
      "Objective value at epoch t=85 is 0.47159864971567667\n",
      "Objective value at epoch t=86 is 0.4715976924844793\n",
      "Objective value at epoch t=87 is 0.4715968333077444\n",
      "Objective value at epoch t=88 is 0.4715960570366879\n",
      "Objective value at epoch t=89 is 0.47159536108122085\n",
      "Objective value at epoch t=90 is 0.47159473391891565\n",
      "Objective value at epoch t=91 is 0.4715941693207899\n",
      "Objective value at epoch t=92 is 0.4715936616744766\n",
      "Objective value at epoch t=93 is 0.47159320432877283\n",
      "Objective value at epoch t=94 is 0.47159279295431106\n",
      "Objective value at epoch t=95 is 0.47159242260394374\n",
      "Objective value at epoch t=96 is 0.4715920892548957\n",
      "Objective value at epoch t=97 is 0.471591789187483\n",
      "Objective value at epoch t=98 is 0.4715915191604859\n",
      "Objective value at epoch t=99 is 0.47159127613058416\n"
     ]
    }
   ],
   "source": [
    "lam = 1E-6\n",
    "stepsize = 0.1\n",
    "w, objvals_sgd = sgd(x_train, y_train, lam, stepsize)"
   ]
  },
  {
   "cell_type": "markdown",
   "metadata": {},
   "source": [
    "# 4. Compare GD with SGD\n",
    "\n",
    "Plot objective function values against epochs."
   ]
  },
  {
   "cell_type": "code",
   "execution_count": 13,
   "metadata": {},
   "outputs": [
    {
     "name": "stderr",
     "output_type": "stream",
     "text": [
      "<ipython-input-13-b7ca9733ba40>:11: MatplotlibDeprecationWarning: Case-insensitive properties were deprecated in 3.3 and support will be removed two minor releases later\n",
      "  plt.xlabel('Epochs', FontSize=20)\n",
      "<ipython-input-13-b7ca9733ba40>:12: MatplotlibDeprecationWarning: Case-insensitive properties were deprecated in 3.3 and support will be removed two minor releases later\n",
      "  plt.ylabel('Objective Value', FontSize=20)\n"
     ]
    },
    {
     "data": {
      "image/png": "[encoded data removed]",
      "text/plain": [
       "<Figure size 432x288 with 1 Axes>"
      ]
     },
     "metadata": {
      "needs_background": "light"
     },
     "output_type": "display_data"
    }
   ],
   "source": [
    "import matplotlib.pyplot as plt\n",
    "%matplotlib inline\n",
    "\n",
    "fig = plt.figure(figsize=(6, 4))\n",
    "\n",
    "epochs_gd = range(len(objvals_gd))\n",
    "epochs_sgd = range(len(objvals_sgd))\n",
    "\n",
    "line0, = plt.plot(epochs_gd, objvals_gd, '--b', linewidth=4)\n",
    "line1, = plt.plot(epochs_sgd, objvals_sgd, '-r', linewidth=2)\n",
    "plt.xlabel('Epochs', FontSize=20)\n",
    "plt.ylabel('Objective Value', FontSize=20)\n",
    "plt.xticks(fontsize=16)\n",
    "plt.yticks(fontsize=16)\n",
    "plt.legend([line0, line1], ['GD', 'SGD'], fontsize=20)\n",
    "plt.tight_layout()\n",
    "plt.show()\n",
    "fig.savefig('compare_gd_sgd.pdf', format='pdf', dpi=1200)"
   ]
  },
  {
   "cell_type": "markdown",
   "metadata": {},
   "source": [
    "# 5. Prediction"
   ]
  },
  {
   "cell_type": "code",
   "execution_count": 14,
   "metadata": {},
   "outputs": [],
   "source": [
    "# Predict class label\n",
    "# Inputs:\n",
    "#     w: d-by-1 matrix\n",
    "#     X: m-by-d matrix\n",
    "# Return:\n",
    "#     f: m-by-1 matrix, the predictions\n",
    "def predict(w, X):\n",
    "    xw = numpy.dot(X, w)\n",
    "    f = numpy.sign(xw)\n",
    "    return f"
   ]
  },
  {
   "cell_type": "code",
   "execution_count": 15,
   "metadata": {},
   "outputs": [
    {
     "name": "stdout",
     "output_type": "stream",
     "text": [
      "Training classification error is 0.2234375\n"
     ]
    }
   ],
   "source": [
    "# evaluate training error\n",
    "f_train = predict(w, x_train)\n",
    "diff = numpy.abs(f_train - y_train) / 2\n",
    "error_train = numpy.mean(diff)\n",
    "print('Training classification error is ' + str(error_train))"
   ]
  },
  {
   "cell_type": "code",
   "execution_count": 16,
   "metadata": {},
   "outputs": [
    {
     "name": "stdout",
     "output_type": "stream",
     "text": [
      "Test classification error is 0.2421875\n"
     ]
    }
   ],
   "source": [
    "# evaluate test error\n",
    "f_test = predict(w, x_test)\n",
    "diff = numpy.abs(f_test - y_test) / 2\n",
    "error_test = numpy.mean(diff)\n",
    "print('Test classification error is ' + str(error_test))"
   ]
  },
  {
   "cell_type": "markdown",
   "metadata": {},
   "source": [
    "# 6. Mini-batch SGD (fill the code)\n",
    "\n"
   ]
  },
  {
   "cell_type": "markdown",
   "metadata": {},
   "source": [
    "## 6.1. Compute the objective $Q_I$ and its gradient using a batch of samples\n",
    "\n",
    "Define $Q_I (w) = \\frac{1}{b} \\sum_{i \\in I} \\log \\Big( 1 + \\exp \\big( - y_i x_i^T w \\big) \\Big) + \\frac{\\lambda}{2} \\| w \\|_2^2 $, where $I$ is a set containing $b$ indices randomly drawn from $\\{ 1, \\cdots , n \\}$ without replacement.\n",
    "\n",
    "The stochastic gradient at $w$ is $g_I = \\frac{\\partial Q_I }{ \\partial w} = \\frac{1}{b} \\sum_{i \\in I} \\frac{- y_i x_i }{1 + \\exp ( y_i x_i^T w)} + \\lambda w$."
   ]
  },
  {
   "cell_type": "code",
   "execution_count": 17,
   "metadata": {},
   "outputs": [],
   "source": [
    "# Calculate the objective Q_I and the gradient of Q_I\n",
    "# Inputs:\n",
    "#     w: d-by-1 matrix\n",
    "#     xi: b-by-d matrix\n",
    "#     yi: b-by-1 matrix\n",
    "#     lam: scalar, the regularization parameter\n",
    "#     b: integer, the batch size\n",
    "# Return:\n",
    "#     obj: scalar, the objective Q_i\n",
    "#     g: d-by-1 matrix, gradient of Q_i\n",
    "def mb_stochastic_objective_gradient(w, xi, yi, lam, b):\n",
    "    # Fill the function\n",
    "    # Follow the implementation of stochastic_objective_gradient\n",
    "    # Use matrix-vector multiplication; do not use FOR LOOP of vector-vector multiplications\n",
    "    n,d = xi.shape\n",
    "    yx = numpy.multiply(yi, xi) # 1-by-d matrix\n",
    "    yxw = numpy.dot(yx, w) # scalar\n",
    "    \n",
    "    # calculate objective function Q_i\n",
    "    vect = numpy.log(1 + numpy.exp(-yxw)) # scalar\n",
    "    loss = numpy.mean(vect)\n",
    "    reg = lam /2 * numpy.sum(w * w) # scalar\n",
    "    obj = loss + reg\n",
    "    \n",
    "    # calculate stochastic gradient\n",
    "    vec1 = numpy.exp(yxw) # n-by-1 matrix\n",
    "    vec2 = numpy.divide(yx, 1+vec1) # n-by-d matrix\n",
    "    vec3 = -numpy.mean(vec2, axis=0).reshape(d, 1) # d-by-1 matrix\n",
    "    g = vec3 + lam * w\n",
    "    \n",
    "    return obj, g"
   ]
  },
  {
   "cell_type": "markdown",
   "metadata": {},
   "source": [
    "## 6.2. Implement mini-batch SGD\n",
    "\n",
    "Hints:\n",
    "1. In every epoch, randomly permute the $n$ samples (just like SGD).\n",
    "2. Each epoch has $\\frac{n}{b}$ iterations. In every iteration, use $b$ samples, and compute the gradient and objective using the ``mb_stochastic_objective_gradient`` function. In the next iteration, use the next $b$ samples, and so on.\n"
   ]
  },
  {
   "cell_type": "code",
   "execution_count": 18,
   "metadata": {},
   "outputs": [],
   "source": [
    "# Mini-Batch SGD for solving logistic regression\n",
    "# Inputs:\n",
    "#     x: n-by-d matrix\n",
    "#     y: n-by-1 matrix\n",
    "#     lam: scalar, the regularization parameter\n",
    "#     b: integer, the batch size\n",
    "#     stepsize: scalar\n",
    "#     max_epoch: integer, the maximal epochs\n",
    "#     w: d-by-1 matrix, initialization of w\n",
    "# Return:\n",
    "#     w: the solution\n",
    "#     objvals: record of each iteration's objective value\n",
    "def mb_sgd(x, y, lam, b, stepsize, max_epoch=100, w=None):\n",
    "    # Fill the function\n",
    "    # Follow the implementation of sgd\n",
    "    # Record one objective value per epoch (not per iteration!)\n",
    "    n, d = x.shape\n",
    "    objvals = numpy.zeros(max_epoch) # store the objective values\n",
    "    if w is None:\n",
    "        w = numpy.zeros((d, 1)) # zero initialization\n",
    "    \n",
    "    for t in range(max_epoch):\n",
    "        # randomly shuffle the samples\n",
    "        rand_indices = numpy.random.permutation(n)\n",
    "        objval = 0 # accumulate the objective values\n",
    "        for i in range(int(n/b)):\n",
    "            xmb = x[rand_indices[i*b:(i+1) * b], :] # 1-by-d matrix\n",
    "            ymb = y[rand_indices[i*b:(i+1) * b], :] # scalar\n",
    "            obj, g = mb_stochastic_objective_gradient(w, xmb, ymb, lam, b)\n",
    "            objval += obj\n",
    "            w -= stepsize * g\n",
    "        stepsize *= 0.9 # decrease step size\n",
    "        objval *= b/n \n",
    "        objvals[t] = objval\n",
    "        print('Objective value at epoch t=' + str(t) + ' is ' + str(objval))    \n",
    "    return w, objvals"
   ]
  },
  {
   "cell_type": "markdown",
   "metadata": {},
   "source": [
    "## 6.3. Run MB-SGD"
   ]
  },
  {
   "cell_type": "code",
   "execution_count": 19,
   "metadata": {},
   "outputs": [
    {
     "name": "stdout",
     "output_type": "stream",
     "text": [
      "Objective value at epoch t=0 is 0.5438732686507689\n",
      "Objective value at epoch t=1 is 0.5215700219048378\n",
      "Objective value at epoch t=2 is 0.5189397810437897\n",
      "Objective value at epoch t=3 is 0.5083207695738177\n",
      "Objective value at epoch t=4 is 0.5124297743622152\n",
      "Objective value at epoch t=5 is 0.5088479579618547\n",
      "Objective value at epoch t=6 is 0.5024761409967691\n",
      "Objective value at epoch t=7 is 0.49574191629781883\n",
      "Objective value at epoch t=8 is 0.4972964505406955\n",
      "Objective value at epoch t=9 is 0.4946076556052703\n",
      "Objective value at epoch t=10 is 0.49234768589485817\n",
      "Objective value at epoch t=11 is 0.49127547552808926\n",
      "Objective value at epoch t=12 is 0.49052582804104206\n",
      "Objective value at epoch t=13 is 0.4863937859549779\n",
      "Objective value at epoch t=14 is 0.48624602330956235\n",
      "Objective value at epoch t=15 is 0.4851121786150371\n",
      "Objective value at epoch t=16 is 0.4823252596716568\n",
      "Objective value at epoch t=17 is 0.4822398025581867\n",
      "Objective value at epoch t=18 is 0.4774084065895327\n",
      "Objective value at epoch t=19 is 0.481480930923836\n",
      "Objective value at epoch t=20 is 0.47941702340580045\n",
      "Objective value at epoch t=21 is 0.479406336272437\n",
      "Objective value at epoch t=22 is 0.47767693519312693\n",
      "Objective value at epoch t=23 is 0.47799773167278803\n",
      "Objective value at epoch t=24 is 0.4771189894441082\n",
      "Objective value at epoch t=25 is 0.47587191016242425\n",
      "Objective value at epoch t=26 is 0.47607717888393797\n",
      "Objective value at epoch t=27 is 0.47548616400650484\n",
      "Objective value at epoch t=28 is 0.47477108484647784\n",
      "Objective value at epoch t=29 is 0.47501755624984104\n",
      "Objective value at epoch t=30 is 0.474662727456594\n",
      "Objective value at epoch t=31 is 0.4743858466513289\n",
      "Objective value at epoch t=32 is 0.4738822553576544\n",
      "Objective value at epoch t=33 is 0.47393739888057385\n",
      "Objective value at epoch t=34 is 0.47353497942811495\n",
      "Objective value at epoch t=35 is 0.4732895834499795\n",
      "Objective value at epoch t=36 is 0.47317671179965476\n",
      "Objective value at epoch t=37 is 0.47304167586974144\n",
      "Objective value at epoch t=38 is 0.4728695979537695\n",
      "Objective value at epoch t=39 is 0.47277620238546725\n",
      "Objective value at epoch t=40 is 0.4726880200212893\n",
      "Objective value at epoch t=41 is 0.4725810478342132\n",
      "Objective value at epoch t=42 is 0.4724318611752818\n",
      "Objective value at epoch t=43 is 0.47234527601930787\n",
      "Objective value at epoch t=44 is 0.4722895887748374\n",
      "Objective value at epoch t=45 is 0.47219290757329235\n",
      "Objective value at epoch t=46 is 0.4721820352001606\n",
      "Objective value at epoch t=47 is 0.4721397917696763\n",
      "Objective value at epoch t=48 is 0.4720215554112138\n",
      "Objective value at epoch t=49 is 0.47199295778919104\n",
      "Objective value at epoch t=50 is 0.47193616807362937\n",
      "Objective value at epoch t=51 is 0.4719080799210579\n",
      "Objective value at epoch t=52 is 0.4719027415093855\n",
      "Objective value at epoch t=53 is 0.4718660219869816\n",
      "Objective value at epoch t=54 is 0.471815868804605\n",
      "Objective value at epoch t=55 is 0.47181221812035834\n",
      "Objective value at epoch t=56 is 0.47179354024315967\n",
      "Objective value at epoch t=57 is 0.4717775018087421\n",
      "Objective value at epoch t=58 is 0.47174262225597235\n",
      "Objective value at epoch t=59 is 0.47172620754390754\n",
      "Objective value at epoch t=60 is 0.47171336741427555\n",
      "Objective value at epoch t=61 is 0.4717119370774838\n",
      "Objective value at epoch t=62 is 0.4716885291434212\n",
      "Objective value at epoch t=63 is 0.4716778693153598\n",
      "Objective value at epoch t=64 is 0.47167910196489626\n",
      "Objective value at epoch t=65 is 0.47166433917086564\n",
      "Objective value at epoch t=66 is 0.4716615567046253\n",
      "Objective value at epoch t=67 is 0.4716489952647542\n",
      "Objective value at epoch t=68 is 0.4716442517981616\n",
      "Objective value at epoch t=69 is 0.471637762035108\n",
      "Objective value at epoch t=70 is 0.4716352826122687\n",
      "Objective value at epoch t=71 is 0.47163151202979825\n",
      "Objective value at epoch t=72 is 0.4716304176960304\n",
      "Objective value at epoch t=73 is 0.47162355837142533\n",
      "Objective value at epoch t=74 is 0.47161607816224765\n",
      "Objective value at epoch t=75 is 0.47161771492579024\n",
      "Objective value at epoch t=76 is 0.47161565406071304\n",
      "Objective value at epoch t=77 is 0.4716096403588371\n",
      "Objective value at epoch t=78 is 0.4716084133291156\n",
      "Objective value at epoch t=79 is 0.4716075575326132\n",
      "Objective value at epoch t=80 is 0.47160520912697107\n",
      "Objective value at epoch t=81 is 0.4716026801467263\n",
      "Objective value at epoch t=82 is 0.4716018196807443\n",
      "Objective value at epoch t=83 is 0.47160125674539133\n",
      "Objective value at epoch t=84 is 0.4715990397434136\n",
      "Objective value at epoch t=85 is 0.47159865245932536\n",
      "Objective value at epoch t=86 is 0.47159733548645816\n",
      "Objective value at epoch t=87 is 0.47159650925870145\n",
      "Objective value at epoch t=88 is 0.47159570652756005\n",
      "Objective value at epoch t=89 is 0.47159515268343877\n",
      "Objective value at epoch t=90 is 0.4715948602296489\n",
      "Objective value at epoch t=91 is 0.4715938339588789\n",
      "Objective value at epoch t=92 is 0.47159342330306225\n",
      "Objective value at epoch t=93 is 0.47159276900315317\n",
      "Objective value at epoch t=94 is 0.4715923497639781\n",
      "Objective value at epoch t=95 is 0.4715920233968402\n",
      "Objective value at epoch t=96 is 0.47159211966307846\n",
      "Objective value at epoch t=97 is 0.47159169465473944\n",
      "Objective value at epoch t=98 is 0.4715911826225121\n",
      "Objective value at epoch t=99 is 0.4715910642704215\n"
     ]
    }
   ],
   "source": [
    "# MB-SGD with batch size b=8\n",
    "lam = 1E-6 # do not change\n",
    "b = 8 # do not change\n",
    "stepsize = 0.8 # you must tune this parameter\n",
    "\n",
    "w, objvals_mbsgd8 = mb_sgd(x_train, y_train, lam, b, stepsize)"
   ]
  },
  {
   "cell_type": "code",
   "execution_count": 20,
   "metadata": {},
   "outputs": [
    {
     "name": "stdout",
     "output_type": "stream",
     "text": [
      "Objective value at epoch t=0 is 0.5725215149129844\n",
      "Objective value at epoch t=1 is 0.49764529284171266\n",
      "Objective value at epoch t=2 is 0.48421240757197215\n",
      "Objective value at epoch t=3 is 0.4799300261848369\n",
      "Objective value at epoch t=4 is 0.47690365903781795\n",
      "Objective value at epoch t=5 is 0.4771701517665081\n",
      "Objective value at epoch t=6 is 0.47516003778995297\n",
      "Objective value at epoch t=7 is 0.4753510930455126\n",
      "Objective value at epoch t=8 is 0.47385234283646016\n",
      "Objective value at epoch t=9 is 0.4735360080075894\n",
      "Objective value at epoch t=10 is 0.473946030965692\n",
      "Objective value at epoch t=11 is 0.47302448577337053\n",
      "Objective value at epoch t=12 is 0.47335951026425116\n",
      "Objective value at epoch t=13 is 0.4732467226873265\n",
      "Objective value at epoch t=14 is 0.4730692237064837\n",
      "Objective value at epoch t=15 is 0.4726549181541768\n",
      "Objective value at epoch t=16 is 0.4728366368533998\n",
      "Objective value at epoch t=17 is 0.47276110687444356\n",
      "Objective value at epoch t=18 is 0.47254702142688254\n",
      "Objective value at epoch t=19 is 0.4724420343473666\n",
      "Objective value at epoch t=20 is 0.4722573789736937\n",
      "Objective value at epoch t=21 is 0.4720595302635133\n",
      "Objective value at epoch t=22 is 0.47216780539612524\n",
      "Objective value at epoch t=23 is 0.47199262618469817\n",
      "Objective value at epoch t=24 is 0.471990175685633\n",
      "Objective value at epoch t=25 is 0.47192226634986495\n",
      "Objective value at epoch t=26 is 0.47195538419368854\n",
      "Objective value at epoch t=27 is 0.4719106971981229\n",
      "Objective value at epoch t=28 is 0.4718241506920463\n",
      "Objective value at epoch t=29 is 0.4717717373245773\n",
      "Objective value at epoch t=30 is 0.4718189280700713\n",
      "Objective value at epoch t=31 is 0.47180341776907914\n",
      "Objective value at epoch t=32 is 0.47180566365289334\n",
      "Objective value at epoch t=33 is 0.47181021177374816\n",
      "Objective value at epoch t=34 is 0.47174934786705275\n",
      "Objective value at epoch t=35 is 0.47172967881476363\n",
      "Objective value at epoch t=36 is 0.4717320687157212\n",
      "Objective value at epoch t=37 is 0.47173605481330316\n",
      "Objective value at epoch t=38 is 0.47173530869904534\n",
      "Objective value at epoch t=39 is 0.47170385903436163\n",
      "Objective value at epoch t=40 is 0.4716895933961885\n",
      "Objective value at epoch t=41 is 0.47166270379332964\n",
      "Objective value at epoch t=42 is 0.47167750326328783\n",
      "Objective value at epoch t=43 is 0.47166991592709673\n",
      "Objective value at epoch t=44 is 0.47165901292525975\n",
      "Objective value at epoch t=45 is 0.4716727851361291\n",
      "Objective value at epoch t=46 is 0.47164683953020536\n",
      "Objective value at epoch t=47 is 0.4716535724140711\n",
      "Objective value at epoch t=48 is 0.4716517601881582\n",
      "Objective value at epoch t=49 is 0.4716511774466377\n",
      "Objective value at epoch t=50 is 0.47163831175673165\n",
      "Objective value at epoch t=51 is 0.47163883139532975\n",
      "Objective value at epoch t=52 is 0.47163459464288904\n",
      "Objective value at epoch t=53 is 0.47162669821492076\n",
      "Objective value at epoch t=54 is 0.471628561779877\n",
      "Objective value at epoch t=55 is 0.47162769826827616\n",
      "Objective value at epoch t=56 is 0.47162387070917094\n",
      "Objective value at epoch t=57 is 0.4716213400562042\n",
      "Objective value at epoch t=58 is 0.47162109006962827\n",
      "Objective value at epoch t=59 is 0.47161990245943763\n",
      "Objective value at epoch t=60 is 0.47161851906233576\n",
      "Objective value at epoch t=61 is 0.47162031253154196\n",
      "Objective value at epoch t=62 is 0.471618535971138\n",
      "Objective value at epoch t=63 is 0.4716179597771761\n",
      "Objective value at epoch t=64 is 0.4716176321655541\n",
      "Objective value at epoch t=65 is 0.4716155868241507\n",
      "Objective value at epoch t=66 is 0.47161528095693095\n",
      "Objective value at epoch t=67 is 0.4716134763179043\n",
      "Objective value at epoch t=68 is 0.4716127433603712\n",
      "Objective value at epoch t=69 is 0.47161420761104167\n",
      "Objective value at epoch t=70 is 0.4716126843206273\n",
      "Objective value at epoch t=71 is 0.4716122540714216\n",
      "Objective value at epoch t=72 is 0.4716125431314739\n",
      "Objective value at epoch t=73 is 0.47161135586565534\n",
      "Objective value at epoch t=74 is 0.471612068947449\n",
      "Objective value at epoch t=75 is 0.47161159083680526\n",
      "Objective value at epoch t=76 is 0.4716115102814076\n",
      "Objective value at epoch t=77 is 0.47161127483793086\n",
      "Objective value at epoch t=78 is 0.4716115797558498\n",
      "Objective value at epoch t=79 is 0.4716108616261089\n",
      "Objective value at epoch t=80 is 0.4716110408474166\n",
      "Objective value at epoch t=81 is 0.47161071850555025\n",
      "Objective value at epoch t=82 is 0.47161069971594216\n",
      "Objective value at epoch t=83 is 0.4716106436741765\n",
      "Objective value at epoch t=84 is 0.4716103526636823\n",
      "Objective value at epoch t=85 is 0.4716102781994172\n",
      "Objective value at epoch t=86 is 0.47161044230646454\n",
      "Objective value at epoch t=87 is 0.47161026103478154\n",
      "Objective value at epoch t=88 is 0.4716101793698149\n",
      "Objective value at epoch t=89 is 0.4716102967965333\n",
      "Objective value at epoch t=90 is 0.4716101565907477\n",
      "Objective value at epoch t=91 is 0.47161035198654244\n",
      "Objective value at epoch t=92 is 0.4716099927802792\n",
      "Objective value at epoch t=93 is 0.4716101271048787\n",
      "Objective value at epoch t=94 is 0.4716099947968122\n",
      "Objective value at epoch t=95 is 0.47161002783009986\n",
      "Objective value at epoch t=96 is 0.4716099156689305\n",
      "Objective value at epoch t=97 is 0.4716099909849132\n",
      "Objective value at epoch t=98 is 0.4716099206819051\n",
      "Objective value at epoch t=99 is 0.47160993508316085\n"
     ]
    }
   ],
   "source": [
    "# MB-SGD with batch size b=64\n",
    "lam = 1E-6 # do not change\n",
    "b = 64 # do not change\n",
    "stepsize = 0.5 # you must tune this parameter\n",
    "\n",
    "w, objvals_mbsgd64 = mb_sgd(x_train, y_train, lam, b, stepsize)"
   ]
  },
  {
   "cell_type": "markdown",
   "metadata": {},
   "source": [
    "# 7. Plot and compare GD, SGD, and MB-SGD"
   ]
  },
  {
   "cell_type": "markdown",
   "metadata": {},
   "source": [
    "You are required to compare the following algorithms:\n",
    "\n",
    "- Gradient descent (GD)\n",
    "\n",
    "- SGD\n",
    "\n",
    "- MB-SGD with b=8\n",
    "\n",
    "- MB-SGD with b=64\n",
    "\n",
    "Follow the code in Section 4 to plot ```objective function value``` against ```epochs```. There should be four curves in the plot; each curve corresponds to one algorithm."
   ]
  },
  {
   "cell_type": "markdown",
   "metadata": {},
   "source": [
    "Hint: Logistic regression with $\\ell_2$-norm regularization is a strongly convex optimization problem. All the algorithms will converge to the same solution. **In the end, the ``objective function value`` of the 4 algorithms will be the same. If not the same, your implementation must be wrong. Do NOT submit wrong code and wrong result!**"
   ]
  },
  {
   "cell_type": "code",
   "execution_count": 21,
   "metadata": {},
   "outputs": [
    {
     "data": {
      "image/png": "[encoded data removed]",
      "text/plain": [
       "<Figure size 432x288 with 1 Axes>"
      ]
     },
     "metadata": {
      "needs_background": "light"
     },
     "output_type": "display_data"
    }
   ],
   "source": [
    "# plot the 4 curves:\n",
    "\n",
    "\n",
    "import matplotlib.pyplot as plt\n",
    "%matplotlib inline\n",
    "\n",
    "fig = plt.figure(figsize=(6,4))\n",
    "\n",
    "epochs_gd = range(len(objvals_gd))\n",
    "epochs_sgd = range(len(objvals_sgd))\n",
    "epochs_mbsgd8 = range(len(objvals_mbsgd8))\n",
    "epochs_mbsgd64 = range(len(objvals_mbsgd64))\n",
    "\n",
    "\n",
    "\n",
    "line0, = plt.plot(epochs_gd, objvals_gd, '--b', linewidth=8)\n",
    "line1, = plt.plot(epochs_sgd, objvals_sgd, '-r', linewidth=6)\n",
    "line2, = plt.plot(epochs_mbsgd8, objvals_mbsgd8, 'og', linewidth=4)\n",
    "line3, = plt.plot(epochs_mbsgd64, objvals_mbsgd64, '+y', linewidth=2)\n",
    "plt.xlabel('Epochs', fontsize=20)\n",
    "plt.ylabel('Objective Value', fontsize=20)\n",
    "plt.xticks(fontsize=16)\n",
    "plt.yticks(fontsize=16)\n",
    "plt.legend([line0, line1,line2,line3], ['GD', 'SGD','MBSGD8','MBSGD64'], fontsize=10)\n",
    "plt.tight_layout()\n",
    "plt.show()\n",
    "fig.savefig('compare_gd_sgd.pdf', format='pdf', dpi=1200)"
   ]
  },
  {
   "cell_type": "markdown",
   "metadata": {},
   "source": []
  }
 ],
 "metadata": {
  "kernelspec": {
   "display_name": "Python 3",
   "language": "python",
   "name": "python3"
  },
  "language_info": {
   "codemirror_mode": {
    "name": "ipython",
    "version": 3
   },
   "file_extension": ".py",
   "mimetype": "text/x-python",
   "name": "python",
   "nbconvert_exporter": "python",
   "pygments_lexer": "ipython3",
   "version": "3.8.5"
  }
 },
 "nbformat": 4,
 "nbformat_minor": 2
}
